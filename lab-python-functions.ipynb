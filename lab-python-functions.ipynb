{
 "cells": [
  {
   "cell_type": "markdown",
   "id": "25d7736c-ba17-4aff-b6bb-66eba20fbf4e",
   "metadata": {},
   "source": [
    "# Lab | Functions"
   ]
  },
  {
   "cell_type": "markdown",
   "id": "0c581062-8967-4d93-b06e-62833222f930",
   "metadata": {
    "tags": []
   },
   "source": [
    "## Exercise: Managing Customer Orders with Functions\n",
    "\n",
    "In the previous exercise, you improved the code for managing customer orders by using loops and flow control. Now, let's take it a step further and refactor the code by introducing functions.\n",
    "\n",
    "Follow the steps below to complete the exercise:\n",
    "\n",
    "1. Define a function named `initialize_inventory` that takes `products` as a parameter. Inside the function, implement the code for initializing the inventory dictionary using a loop and user input.\n",
    "\n",
    "2. Define a function named `get_customer_orders` that takes no parameters. Inside the function, implement the code for prompting the user to enter the product names using a loop. The function should return the `customer_orders` set.\n",
    "\n",
    "3. Define a function named `update_inventory` that takes `customer_orders` and `inventory` as parameters. Inside the function, implement the code for updating the inventory dictionary based on the customer orders.\n",
    "\n",
    "4. Define a function named `calculate_order_statistics` that takes `customer_orders` and `products` as parameters. Inside the function, implement the code for calculating the order statistics (total products ordered, and percentage of unique products ordered). The function should return these values.\n",
    "\n",
    "5. Define a function named `print_order_statistics` that takes `order_statistics` as a parameter. Inside the function, implement the code for printing the order statistics.\n",
    "\n",
    "6. Define a function named `print_updated_inventory` that takes `inventory` as a parameter. Inside the function, implement the code for printing the updated inventory.\n",
    "\n",
    "7. Call the functions in the appropriate sequence to execute the program and manage customer orders.\n",
    "\n",
    "Hints for functions:\n",
    "\n",
    "- Consider the input parameters required for each function and their return values.\n",
    "- Utilize function parameters and return values to transfer data between functions.\n",
    "- Test your functions individually to ensure they work correctly.\n",
    "\n",
    "\n"
   ]
  },
  {
   "cell_type": "markdown",
   "id": "5db2590b-08c2-4827-bdd4-f33b228d0c2a",
   "metadata": {},
   "source": [
    "1. Define a function named initialize_inventory that takes products as a parameter. Inside the function, implement the code for initializing the inventory dictionary using a loop and user input."
   ]
  },
  {
   "cell_type": "code",
   "execution_count": 25,
   "id": "db98ceec-e157-45a8-aa15-03f771e98931",
   "metadata": {
    "tags": []
   },
   "outputs": [],
   "source": [
    "inventory = {}"
   ]
  },
  {
   "cell_type": "code",
   "execution_count": 26,
   "id": "a747047f-90d7-4a8b-bdb8-02ab5820c240",
   "metadata": {
    "tags": []
   },
   "outputs": [],
   "source": [
    "def initialize_inventory(products):\n",
    "    i = 0\n",
    "    while i < len(products):\n",
    "        inventory[products[i]] = int(input(f\"Add the numbers of {products[i]}'s\"))\n",
    "        i += 1   "
   ]
  },
  {
   "cell_type": "code",
   "execution_count": 27,
   "id": "d9416545-0885-4b52-ae8d-bf80713f5141",
   "metadata": {
    "tags": []
   },
   "outputs": [
    {
     "name": "stdin",
     "output_type": "stream",
     "text": [
      "Add the numbers of t-shirt's 10\n",
      "Add the numbers of mug's 10\n",
      "Add the numbers of hat's 10\n",
      "Add the numbers of book's 10\n",
      "Add the numbers of keychain's 10\n"
     ]
    },
    {
     "data": {
      "text/plain": [
       "{'t-shirt': 10, 'mug': 10, 'hat': 10, 'book': 10, 'keychain': 10}"
      ]
     },
     "execution_count": 27,
     "metadata": {},
     "output_type": "execute_result"
    }
   ],
   "source": [
    "product_list = [\"t-shirt\", \"mug\", \"hat\", \"book\", \"keychain\"]"
   ]
  },
  {
   "cell_type": "markdown",
   "id": "f5bb3fe1-40a0-4502-b942-770380356c34",
   "metadata": {
    "tags": []
   },
   "source": [
    "2. Define a function named get_customer_orders that takes no parameters. Inside the function, implement the code for prompting the user to enter the product names using a loop. The function should return the customer_orders set."
   ]
  },
  {
   "cell_type": "code",
   "execution_count": 28,
   "id": "b53fea43-34dc-4fd4-9305-88f74d4afe38",
   "metadata": {
    "tags": []
   },
   "outputs": [],
   "source": [
    "def get_customer_orders():\n",
    "    more_order = True\n",
    "    customer_orders = []\n",
    "    while more_order == True:\n",
    "\n",
    "        customer_orders.append(input(f\"Please enter the item from this list that you would like to add to your order: {products} \"))\n",
    "\n",
    "        answer = input(\"Do you want to order an other item from the list? Input y for yes or n for no\")\n",
    "\n",
    "        if answer == 'y':\n",
    "            print()\n",
    "        elif answer == 'n':\n",
    "            more_order = False\n",
    "    return customer_orders"
   ]
  },
  {
   "cell_type": "code",
   "execution_count": 46,
   "id": "04d3b63e-dc26-42ea-8e72-77ec6642b097",
   "metadata": {
    "tags": []
   },
   "outputs": [
    {
     "name": "stdin",
     "output_type": "stream",
     "text": [
      "Please enter the item from this list that you would like to add to your order: ['t-shirt', 'mug', 'hat', 'book', 'keychain']  mug\n",
      "Do you want to order an other item from the list? Input y for yes or n for no y\n"
     ]
    },
    {
     "name": "stdout",
     "output_type": "stream",
     "text": [
      "\n"
     ]
    },
    {
     "name": "stdin",
     "output_type": "stream",
     "text": [
      "Please enter the item from this list that you would like to add to your order: ['t-shirt', 'mug', 'hat', 'book', 'keychain']  hat\n",
      "Do you want to order an other item from the list? Input y for yes or n for no n\n"
     ]
    }
   ],
   "source": [
    "customer_orders = get_customer_orders()"
   ]
  },
  {
   "cell_type": "markdown",
   "id": "4dee46e0-2084-40b5-8b34-7a32678b0e85",
   "metadata": {},
   "source": [
    "3. Define a function named update_inventory that takes customer_orders and inventory as parameters. Inside the function, implement the code for updating the inventory dictionary based on the customer orders."
   ]
  },
  {
   "cell_type": "code",
   "execution_count": 30,
   "id": "f56cb87b-2dfc-452e-acce-8e30df1594f3",
   "metadata": {
    "tags": []
   },
   "outputs": [],
   "source": [
    "def update_inventory(customer_orders, inventory):\n",
    "    for item in customer_orders:\n",
    "        inventory[item] -= 1\n",
    "    return inventory\n",
    "    "
   ]
  },
  {
   "cell_type": "code",
   "execution_count": 44,
   "id": "aa314a29-b5a0-4c92-b1c7-3fe54a79c221",
   "metadata": {
    "tags": []
   },
   "outputs": [],
   "source": [
    "inventory = update_inventory(customer_orders, inventory)"
   ]
  },
  {
   "cell_type": "markdown",
   "id": "61f502cd-9756-4153-ae8f-1b324117cb3e",
   "metadata": {},
   "source": [
    "4. Define a function named calculate_order_statistics that takes customer_orders and products as parameters. Inside the function, implement the code for calculating the order statistics (total products ordered, and percentage of unique products ordered). The function should return these values."
   ]
  },
  {
   "cell_type": "code",
   "execution_count": 42,
   "id": "9cd84b4a-a6f3-4117-9f66-f73cbf6201cc",
   "metadata": {
    "tags": []
   },
   "outputs": [],
   "source": [
    "def calculate_order_statistics(customer_orders, products):\n",
    "    order_status = len(customer_orders), len(customer_orders)/sum(products.values())*100\n",
    "    return order_status"
   ]
  },
  {
   "cell_type": "code",
   "execution_count": 43,
   "id": "0d235c81-dade-4475-aedf-a4a64691c689",
   "metadata": {
    "tags": []
   },
   "outputs": [],
   "source": [
    "order_statistics = calculate_order_statistics(customer_orders, inventory)"
   ]
  },
  {
   "cell_type": "markdown",
   "id": "9d342116-7b01-4f92-b36a-d0abe5a2e7b5",
   "metadata": {},
   "source": [
    "5. Define a function named print_order_statistics that takes order_statistics as a parameter. Inside the function, implement the code for printing the order statistics."
   ]
  },
  {
   "cell_type": "code",
   "execution_count": 49,
   "id": "712985b5-152c-4614-84d3-6bc520809f87",
   "metadata": {
    "tags": []
   },
   "outputs": [],
   "source": [
    "def print_order_statistics(order_statistics):\n",
    "    print(f'Order Statistics: Total Products Ordered: {order_statistics[0]} , Percentage of Products Ordered: {int(order_statistics[1])}%')"
   ]
  },
  {
   "cell_type": "code",
   "execution_count": 50,
   "id": "4ff25b88-e682-46c9-aa41-9611089ccd51",
   "metadata": {
    "tags": []
   },
   "outputs": [
    {
     "name": "stdout",
     "output_type": "stream",
     "text": [
      "Order Statistics: Total Products Ordered: 2 , Percentage of Products Ordered: 4%\n"
     ]
    }
   ],
   "source": [
    "print_order_statistics(order_statistics)"
   ]
  },
  {
   "cell_type": "markdown",
   "id": "824f032f-a478-4430-ac3b-f89fc98b9e75",
   "metadata": {},
   "source": [
    "6. Define a function named print_updated_inventory that takes inventory as a parameter. Inside the function, implement the code for printing the updated inventory."
   ]
  },
  {
   "cell_type": "code",
   "execution_count": 51,
   "id": "a2f7a3e6-2ff5-4442-98f1-93025d9c1a71",
   "metadata": {
    "tags": []
   },
   "outputs": [],
   "source": [
    "def print_updated_inventory(inventory):\n",
    "    print(inventory)"
   ]
  },
  {
   "cell_type": "code",
   "execution_count": 52,
   "id": "452679a7-4f4b-4f93-9920-bd22398e0413",
   "metadata": {
    "tags": []
   },
   "outputs": [
    {
     "name": "stdout",
     "output_type": "stream",
     "text": [
      "{'t-shirt': 10, 'mug': 6, 'hat': 6, 'book': 10, 'keychain': 10}\n"
     ]
    }
   ],
   "source": [
    "print_updated_inventory(inventory)"
   ]
  },
  {
   "cell_type": "markdown",
   "id": "9bb24966-6204-40fe-9435-c80c097de93c",
   "metadata": {},
   "source": [
    "7. Call the functions in the appropriate sequence to execute the program and manage customer orders."
   ]
  },
  {
   "cell_type": "code",
   "execution_count": null,
   "id": "7eb71e6f-89da-4644-94d7-a7986c8f7d5b",
   "metadata": {},
   "outputs": [],
   "source": [
    "initialize_inventory(product_list)\n",
    "\n",
    "    "
   ]
  }
 ],
 "metadata": {
  "kernelspec": {
   "display_name": "Python 3 (ipykernel)",
   "language": "python",
   "name": "python3"
  },
  "language_info": {
   "codemirror_mode": {
    "name": "ipython",
    "version": 3
   },
   "file_extension": ".py",
   "mimetype": "text/x-python",
   "name": "python",
   "nbconvert_exporter": "python",
   "pygments_lexer": "ipython3",
   "version": "3.11.5"
  }
 },
 "nbformat": 4,
 "nbformat_minor": 5
}
